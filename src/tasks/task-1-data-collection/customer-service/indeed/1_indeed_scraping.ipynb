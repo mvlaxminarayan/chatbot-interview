{
 "cells": [
  {
   "cell_type": "code",
   "execution_count": 1,
   "metadata": {},
   "outputs": [],
   "source": [
    "# Import necessary libraries\n",
    "\n",
    "from selenium import webdriver\n",
    "from selenium.webdriver.common.by import By\n",
    "from selenium.webdriver.common.keys import Keys\n",
    "from selenium.webdriver.support.wait import WebDriverWait\n",
    "from selenium.webdriver.support import expected_conditions as EC\n",
    "from selenium.common.exceptions import TimeoutException\n",
    "import time\n",
    "from itertools import repeat\n",
    "import pandas as pd\n",
    "import configparser\n",
    "import numpy as np\n",
    "\n",
    "import os\n",
    "os.environ['PATH'] += r\"C:/SeleniumDrivers\"\n",
    "\n",
    "# Initialize the WebDriver using Chrome\n",
    "driver = webdriver.Chrome()\n",
    "driver.maximize_window()  # Maximize the browser window"
   ]
  },
  {
   "cell_type": "code",
   "execution_count": 2,
   "metadata": {},
   "outputs": [],
   "source": [
    "driver.get(\"https://ie.indeed.com/career-advice/interviewing/customer-service-interview-questions\")"
   ]
  },
  {
   "cell_type": "code",
   "execution_count": 3,
   "metadata": {},
   "outputs": [],
   "source": [
    "questions = driver.find_elements(By.CSS_SELECTOR, 'h3[class=\"rich-text-component css-18fte31 e1tiznh50\"]')"
   ]
  },
  {
   "cell_type": "code",
   "execution_count": 4,
   "metadata": {},
   "outputs": [
    {
     "name": "stdout",
     "output_type": "stream",
     "text": [
      "1. What is customer service?\n",
      "2. How would you proceed if you were unsure of how to help a customer?\n",
      "3. What experience do you have with using customer service software?\n",
      "4. Why do you want to work in customer service at this organisation?\n",
      "5. What do you think of this company's products or services?\n",
      "6. What skills are important for a customer service employee to have?\n",
      "7. How would you de-escalate a situation that involves an upset customer?\n"
     ]
    }
   ],
   "source": [
    "questionz = []\n",
    "for question in questions:\n",
    "    print(question.text)\n",
    "    questionz.append(question.text)"
   ]
  },
  {
   "cell_type": "code",
   "execution_count": 5,
   "metadata": {},
   "outputs": [
    {
     "name": "stdout",
     "output_type": "stream",
     "text": [
      "7\n"
     ]
    }
   ],
   "source": [
    "print(len(questionz))"
   ]
  },
  {
   "cell_type": "code",
   "execution_count": 6,
   "metadata": {},
   "outputs": [],
   "source": [
    "texts = driver.find_elements(By.CSS_SELECTOR,'p[class=\"rich-text-component css-1g5t2dl e1wnkr790\"]')"
   ]
  },
  {
   "cell_type": "code",
   "execution_count": 7,
   "metadata": {},
   "outputs": [
    {
     "name": "stdout",
     "output_type": "stream",
     "text": [
      "7\n",
      "7\n"
     ]
    }
   ],
   "source": [
    "answer = []\n",
    "\n",
    "explanation = []\n",
    "\n",
    "previous = texts[0]\n",
    "\n",
    "for text in texts[1:]:\n",
    "    \n",
    "    current = text\n",
    "    if \"Example:\" in current.text:\n",
    "        \n",
    "        explanation.append(previous.text)\n",
    "        \n",
    "        answer.append(text.text)\n",
    "    \n",
    "    previous = current\n",
    "        \n",
    "print(len(answer))\n",
    "print(len(explanation))"
   ]
  },
  {
   "cell_type": "code",
   "execution_count": 8,
   "metadata": {},
   "outputs": [],
   "source": [
    "final = []\n",
    "\n",
    "for i in range(len(answer)):\n",
    "    \n",
    "    final.append([])\n",
    "    \n",
    "    final[i].append(questionz[i])\n",
    "    final[i].append(explanation[i])\n",
    "    final[i].append(answer[i])\n",
    "    \n",
    "    \n",
    "    \n",
    "    "
   ]
  },
  {
   "cell_type": "code",
   "execution_count": 9,
   "metadata": {},
   "outputs": [
    {
     "name": "stdout",
     "output_type": "stream",
     "text": [
      "['1. What is customer service?', \"During your interview for a customer service position, a recruitment manager may begin the conversation by asking for your definition of customer service. Instead of providing a textbook definition of this term, you may describe what it means to you. Use unique language so that you can show your personal thoughts and opinions. You may prepare your answer by studying the company's mission and offerings so that you can incorporate this information into your answer.\", \"Example: 'To me, customer service means providing the customer with the support and guidance they need to make an informed purchase decision. It also means answering any questions they have and addressing their concerns so that they can have a positive experience with the company. For example, if I were to work as a customer service representative at Otto's Refurbished Phones, I'd educate myself on the company's products and help customers purchase a cellphone that meets their preferences for a mobile device and fits within their budget.'\"]\n",
      "['2. How would you proceed if you were unsure of how to help a customer?', \"A recruitment manager may ask this question to assess your problem-solving skills, which are important to have in the customer service industry. In your response, you can state that you would go get a supervisor who may have more knowledge on how to address the issue. Emphasise that you'd ensure the customer felt comfortable as you introduced a new individual into the situation.\", \"Example: 'If I was unsure of how to help a customer, I would request the help of my manager or supervisor. I'd attempt to contact whoever is readily available so that the customer could experience a minimal wait time. If possible, I would page the manager or supervisor to the customer's location so that the customer wouldn't have to move locations. If I didn't have the technology on me to page the manager, I would invite the customer to walk with me or ask them to remain in place while I go get the manager.\"]\n",
      "['3. What experience do you have with using customer service software?', 'A recruitment manager may ask this question to determine your familiarity with customer service software. They may use your answer to assess the level of training you would require. In your response, you can state any software or technology that you used in previous positions. If your experience with this kind of software is limited, you may explain that you have the technical competence and would be eager to learn about new technologies.', \"Example: 'In my previous position, I used a traditional point-of-sale (POS) system during every shift. For a few weeks in this same position, I worked remotely from home and got comfortable with using the company's live chat software where I was able to learn how to answer customers' enquiries efficiently. I enjoy learning about new technologies, and I'm very prepared to learn any new software that this organisation uses so that it can provide superior service to its customers.'\"]\n",
      "['4. Why do you want to work in customer service at this organisation?', \"Your response to this interview question can help a recruitment manager assess your passions and motivation for entering the customer service industry. It's important for customer service employees to be enthusiastic about their work, so you can convey this passion in your answer. Consider sharing a personal experience that you've had with the company as a customer so that you can show that you're an empathetic candidate who understands the importance of good customer service.\", \"Example: 'I've been a loyal customer of Eagleson and Chase Department Store for five years now, and I've had a positive shopping experience every time I've visited the store. I'll always remember my first visit to this store because of the superior customer service I received. The cashier was incredibly friendly and made me feel like a member of the community rather than just a paying customer. When I got the car, I realised that one of my home appliance items rang up at the incorrect price due to a misplaced price tag.\"]\n",
      "[\"5. What do you think of this company's products or services?\", \"A recruitment manager may ask this question to assess your familiarity with the company's offerings. If you haven't purchased the products or services yourself, you may form an honest answer by performing online research and reading other customers' reviews to gain a consensus. If you're a customer of the company yourself, you can reflect on the positive attributes of your experience as you write your own response.\", \"Example: 'As someone who exercises every day, finding workout clothes that are supportive and long-lasting is really important to me. I love that the products this company makes are all well-designed and built to last through hundreds of uses. I own many pieces from this brand, and I know I can represent their quality well to customers.'\"]\n",
      "['6. What skills are important for a customer service employee to have?', \"Your response can help a recruitment manager determine how you view the available role and what qualities you can embody to experience success in the position. In your response, you may mention soft skills like communication and positivity. You may also mention that having a thorough knowledge of the products or services that you're selling is also essential to success as a customer service employee.\", \"Example: 'I think the skills that great customer service employees commonly have are strong communication, positivity and problem-solving. They clearly communicate with customers by answering questions and engaging in active listening. They also have good technical knowledge of the product or service that they're selling so that they can adequately convey its value. It's also important for a customer service employee to remain positive, especially if they're dealing with an upset customer.'\"]\n",
      "['7. How would you de-escalate a situation that involves an upset customer?', \"Conflict resolution is an important aspect of working in customer service, so a recruitment manager may ask this question to determine how confident you are with de-escalating a situation that involves an upset customer. In your response, emphasise that you'd remain calm even if the customer was angry. You may also state that you'd do everything possible to provide a beneficial solution for the customer and the company.\", \"Example: 'My process for helping customers calm down is to first really listen to what they're saying. Even if they engage in angry behaviours, I remain calm throughout the entire process. Once the customer finishes speaking, I thank them for sharing their concerns and proceed by validating their feelings. I ask what they would like to see the company do to try and rectify the situation. I've found this works well to at least calm the customer down so that we can start addressing the actual problem'.\"]\n"
     ]
    }
   ],
   "source": [
    "for i in final:\n",
    "    \n",
    "    print(i)"
   ]
  },
  {
   "cell_type": "code",
   "execution_count": 10,
   "metadata": {},
   "outputs": [
    {
     "name": "stdout",
     "output_type": "stream",
     "text": [
      "5. What do you think of this company's products or services?\n"
     ]
    }
   ],
   "source": [
    "print(final[4][0])"
   ]
  },
  {
   "cell_type": "code",
   "execution_count": 11,
   "metadata": {},
   "outputs": [
    {
     "name": "stdout",
     "output_type": "stream",
     "text": [
      "A recruitment manager may ask this question to assess your familiarity with the company's offerings. If you haven't purchased the products or services yourself, you may form an honest answer by performing online research and reading other customers' reviews to gain a consensus. If you're a customer of the company yourself, you can reflect on the positive attributes of your experience as you write your own response.\n"
     ]
    }
   ],
   "source": [
    "print(final[4][1])"
   ]
  },
  {
   "cell_type": "code",
   "execution_count": 12,
   "metadata": {},
   "outputs": [
    {
     "name": "stdout",
     "output_type": "stream",
     "text": [
      "Example: 'As someone who exercises every day, finding workout clothes that are supportive and long-lasting is really important to me. I love that the products this company makes are all well-designed and built to last through hundreds of uses. I own many pieces from this brand, and I know I can represent their quality well to customers.'\n"
     ]
    }
   ],
   "source": [
    "print(final[4][2])"
   ]
  },
  {
   "cell_type": "code",
   "execution_count": 13,
   "metadata": {},
   "outputs": [],
   "source": [
    "cols = [\"question\",\"explanation\",\"answer\"]"
   ]
  },
  {
   "cell_type": "code",
   "execution_count": 14,
   "metadata": {},
   "outputs": [],
   "source": [
    "df = pd.DataFrame(final,columns=cols)"
   ]
  },
  {
   "cell_type": "code",
   "execution_count": 15,
   "metadata": {},
   "outputs": [],
   "source": [
    "df.to_csv('indeed_7.csv')"
   ]
  }
 ],
 "metadata": {
  "kernelspec": {
   "display_name": "Python 3",
   "language": "python",
   "name": "python3"
  },
  "language_info": {
   "codemirror_mode": {
    "name": "ipython",
    "version": 3
   },
   "file_extension": ".py",
   "mimetype": "text/x-python",
   "name": "python",
   "nbconvert_exporter": "python",
   "pygments_lexer": "ipython3",
   "version": "3.10.0"
  }
 },
 "nbformat": 4,
 "nbformat_minor": 2
}

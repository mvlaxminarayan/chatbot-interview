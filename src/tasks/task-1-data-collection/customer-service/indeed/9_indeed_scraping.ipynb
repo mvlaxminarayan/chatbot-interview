{
 "cells": [
  {
   "cell_type": "code",
   "execution_count": 1,
   "metadata": {},
   "outputs": [],
   "source": [
    "# Import necessary libraries\n",
    "\n",
    "from selenium import webdriver\n",
    "from selenium.webdriver.common.by import By\n",
    "from selenium.webdriver.common.keys import Keys\n",
    "from selenium.webdriver.support.wait import WebDriverWait\n",
    "from selenium.webdriver.support import expected_conditions as EC\n",
    "from selenium.common.exceptions import TimeoutException\n",
    "import time\n",
    "from itertools import repeat\n",
    "import pandas as pd\n",
    "import configparser\n",
    "import numpy as np\n",
    "\n",
    "import os\n",
    "os.environ['PATH'] += r\"C:/SeleniumDrivers\"\n",
    "\n",
    "# Initialize the WebDriver using Chrome\n",
    "driver = webdriver.Chrome()\n",
    "driver.maximize_window()  # Maximize the browser window"
   ]
  },
  {
   "cell_type": "code",
   "execution_count": 2,
   "metadata": {},
   "outputs": [],
   "source": [
    "driver.get(\"https://au.indeed.com/career-advice/interviewing/customer-service-interview-questions\")"
   ]
  },
  {
   "cell_type": "code",
   "execution_count": 3,
   "metadata": {},
   "outputs": [],
   "source": [
    "questions = driver.find_elements(By.CSS_SELECTOR, 'h3[class=\"rich-text-component css-18fte31 e1tiznh50\"]')"
   ]
  },
  {
   "cell_type": "code",
   "execution_count": 4,
   "metadata": {},
   "outputs": [
    {
     "name": "stdout",
     "output_type": "stream",
     "text": [
      "What is customer service?\n",
      "How would you improve a dissatisfied customer's experience?\n",
      "Would you describe yourself as a team player?\n",
      "Tell me about a time you've had an exceptional customer service experience.\n",
      "Discuss what you would do if you couldn't answer a customer's question.\n",
      "What do you think of our company's products and services?\n",
      "How would former colleagues describe you?\n",
      "Discuss how you'd handle a customer upset about a known problem with your product/service.\n",
      "Why do you want to work as a customer service representative?\n",
      "As an experienced customer service representative, tell me about your software proficiencies.\n",
      "What skills should a great customer service representative have?\n",
      "What are you hoping to do in five years?\n",
      "How would you handle a customer you know is wrong?\n"
     ]
    }
   ],
   "source": [
    "questionz = []\n",
    "for question in questions:\n",
    "    print(question.text)\n",
    "    questionz.append(question.text)"
   ]
  },
  {
   "cell_type": "code",
   "execution_count": 5,
   "metadata": {},
   "outputs": [
    {
     "name": "stdout",
     "output_type": "stream",
     "text": [
      "13\n"
     ]
    }
   ],
   "source": [
    "print(len(questionz))"
   ]
  },
  {
   "cell_type": "code",
   "execution_count": 6,
   "metadata": {},
   "outputs": [],
   "source": [
    "texts = driver.find_elements(By.CSS_SELECTOR,'p[class=\"rich-text-component css-1g5t2dl e1wnkr790\"]')"
   ]
  },
  {
   "cell_type": "code",
   "execution_count": 7,
   "metadata": {},
   "outputs": [
    {
     "name": "stdout",
     "output_type": "stream",
     "text": [
      "13\n",
      "13\n"
     ]
    }
   ],
   "source": [
    "answer = []\n",
    "\n",
    "explanation = []\n",
    "\n",
    "previous = texts[0]\n",
    "\n",
    "for text in texts[1:]:\n",
    "    \n",
    "    current = text\n",
    "    if \"Example:\" in current.text:\n",
    "        \n",
    "        explanation.append(previous.text)\n",
    "        \n",
    "        answer.append(text.text)\n",
    "    \n",
    "    previous = current\n",
    "        \n",
    "print(len(answer))\n",
    "print(len(explanation))"
   ]
  },
  {
   "cell_type": "code",
   "execution_count": 8,
   "metadata": {},
   "outputs": [],
   "source": [
    "final = []\n",
    "\n",
    "for i in range(len(answer)):\n",
    "    \n",
    "    final.append([])\n",
    "    \n",
    "    final[i].append(questionz[i])\n",
    "    final[i].append(explanation[i])\n",
    "    final[i].append(answer[i])\n",
    "    \n",
    "    \n",
    "    \n",
    "    "
   ]
  },
  {
   "cell_type": "code",
   "execution_count": 9,
   "metadata": {},
   "outputs": [
    {
     "name": "stdout",
     "output_type": "stream",
     "text": [
      "['What is customer service?', \"Hiring managers may begin the interview by asking for your definition of customer service. This question allows them to see what mindset you'd bring to the position, how you handle customers and whether your definition matches how the company approaches customer service. Ensure your answer is specific and reflects your personal thoughts. Avoid using a dictionary definition.\", 'Example: ‘For me, being a customer service officer is an important role with multiple facets. But the act of customer service involves providing my customer with the best experience possible and the support they need; whether that involves making a purchase, understanding a specific product, or needing guidance from the company’.']\n",
      "[\"How would you improve a dissatisfied customer's experience?\", \"One of a customer service officer's many responsibilities involves problem-solving and handling complaints from unhappy customers. Prospective employers will want to ensure you possess the skills needed to handle these interactions effectively. If possible, reference an experience you've had solving a customer's problem successfully in a previous role in your answer.\", \"Example: ‘I've found that actively listening to my customers is the initial step in the problem-solving process. I previously had a lactose-intolerant customer who was upset when they received the wrong coffee order. I listened to her concerns, made her a fresh coffee immediately, and provided her with one of my company's free coffee cards to use for her next purchase. She left in a much better mood’.\"]\n",
      "['Would you describe yourself as a team player?', \"Customer service is a position that depends heavily on successful teamwork, so most hiring managers will ask a customer service interview question that focuses on collaboration. Primarily, they want to ensure you're comfortable working with others and have the communication skills necessary to collaborate on projects. In your answer, provide an example of a time you worked successfully in a team in a previous position.\", 'Example: ‘On product launch day, one of our POS machines stopped working, which caused a checkout line to form. After discussing the issue with my colleague, we decided one of us would work on the remaining POS machine and the other would walk along the line, offering discount codes to our customers and thanking them for their continued patience’.']\n",
      "[\"Tell me about a time you've had an exceptional customer service experience.\", 'Hiring managers will often ask this customer service interview question to discover your ideal customer service experience. In your answer, share an experience where the customer service representative and company treated you with respect and went above and beyond to exceed your expectations.', 'Example: ‘I mirror my customer service skills on the exceptional experience I have every time I visit my optometrist. The staff are always friendly, greet me immediately, and are patient and helpful when I select frames’.']\n",
      "[\"Discuss what you would do if you couldn't answer a customer's question.\", \"Often, a customer's question might focus on a different department where you're inexperienced. Hiring managers ask this customer service interview question to ensure you understand company hierarchy and know how to meet a customer's needs quickly and efficiently. If possible, reference the prospective company's organisational structure.\", \"Example: ‘If this happened in this position, I would assure the customer I would find someone to answer their question and then page the floor manager. I would then relay the situation to the manager and introduce them to the customer, so they knew they weren't being abandoned’.\"]\n",
      "[\"What do you think of our company's products and services?\", \"This customer service interview question provides the hiring manager with evidence that you've researched the company. So, ensure you learn as much about the business as possible before the interview. This question also shows that you want this specific job, and not just any customer service role. In your response, describe the product or services and provide honest feedback.\", \"Example: ‘I exercise every day, so rely on workout clothes that are both supportive and long-lasting. I find this company's range to be both affordable and well-designed, and I already own several pieces’.\"]\n",
      "['How would former colleagues describe you?', \"A customer service representative's primary responsibility is to interact with customers, so they need to have a pleasant demeanour and effective communication skills. Describe yourself using words from the job description or that align with the skills necessary to succeed in this customer service role.\", \"Example: ‘In my previous role, my manager praised my positive attitude and often remarked that they'd never seen me without a smile on my face. I know that my sunny disposition helps with customer interaction as it makes them feel comfortable in my presence’.\"]\n",
      "[\"Discuss how you'd handle a customer upset about a known problem with your product/service.\", \"A hiring manager may ask this customer service interview question instead of the previous example regarding a dissatisfied customer. Your answer can show that you can handle tough workplace situations. If you can't provide an example from a previous role, use one of the company's own products or services in your response.\", 'Example: ‘I had a previous customer return a dress with a faulty zipper. As this was a known issue, I adhered to the company-issued specific guidelines by apologising and then offering a full refund or exchange for a similar product’.']\n",
      "['Why do you want to work as a customer service representative?', \"This customer service interview question aims to assess your qualifications and seriousness about the role. They want to know if you have the skills to succeed in this position and if you'll find enjoyment in the relevant responsibilities. Your answer should highlight how your skills align directly with the prospective position and how your personality suits a customer-facing role.\", \"Example: ‘I've been shopping at this company for several years, and I've always appreciated your friendly staff. I'm passionate about your company and know this will show when interacting with and helping customers’.\"]\n",
      "['As an experienced customer service representative, tell me about your software proficiencies.', \"Depending on the customer service role, a hiring manager may ask you about specific customer service software. If you don't have any relevant experience, mention your willingness to learn.\", \"Example: ‘I used Square's iPad software in my previous role, but I'm a quick learner who's happy to gain experience with other programs’.\"]\n",
      "['What skills should a great customer service representative have?', 'Prospective employers ask this customer service representative interview question to ensure you understand their expectations, mirror their values, and have the corresponding skills to succeed in the role. In your response, reference skills and qualities mentioned in the job description and connect them to your own relevant experience.', \"Example: ‘I think customer service representatives should possess strong communication and problem-solving skills. It's imperative they communicate effectively with customers, as well as actively listen to their concerns. I also think a positive attitude is paramount, especially when dealing with dissatisfied customers’.\"]\n",
      "['What are you hoping to do in five years?', 'Hiring managers want to know about your career ambitions. Depending on the company and the specific position, ideally, they will want an employee looking to stay with the company long-term and progress through the ranks. Provide an honest answer and explain how this position supports your career goals.', 'Example: ‘I hope to progress from customer service assistant to manager within this company in five years. I enjoy the responsibilities and team environment involved with working in customer service, which is why I believe this position is a great fit for me and my career ambitions’.']\n",
      "['How would you handle a customer you know is wrong?', \"This is a customer service interview question often asked when hiring managers want evidence of your problem-solving skills. They need to know you're able to address customer miscommunications tactfully. It's common for customers to have incorrect information, but it's important to handle these situations delicately. When you answer, refer to a real-life example if possible.\", \"Example: ‘In a previous role, I had a customer hoping to use an expired coupon. He was unhappy I couldn't accept the coupon. I actively listened to his concerns and said I shared his frustration, then offered him alternative discount options’.\"]\n"
     ]
    }
   ],
   "source": [
    "for i in final:\n",
    "    \n",
    "    print(i)"
   ]
  },
  {
   "cell_type": "code",
   "execution_count": 10,
   "metadata": {},
   "outputs": [
    {
     "name": "stdout",
     "output_type": "stream",
     "text": [
      "Discuss what you would do if you couldn't answer a customer's question.\n"
     ]
    }
   ],
   "source": [
    "print(final[4][0])"
   ]
  },
  {
   "cell_type": "code",
   "execution_count": 11,
   "metadata": {},
   "outputs": [
    {
     "name": "stdout",
     "output_type": "stream",
     "text": [
      "Often, a customer's question might focus on a different department where you're inexperienced. Hiring managers ask this customer service interview question to ensure you understand company hierarchy and know how to meet a customer's needs quickly and efficiently. If possible, reference the prospective company's organisational structure.\n"
     ]
    }
   ],
   "source": [
    "print(final[4][1])"
   ]
  },
  {
   "cell_type": "code",
   "execution_count": 12,
   "metadata": {},
   "outputs": [
    {
     "name": "stdout",
     "output_type": "stream",
     "text": [
      "Example: ‘If this happened in this position, I would assure the customer I would find someone to answer their question and then page the floor manager. I would then relay the situation to the manager and introduce them to the customer, so they knew they weren't being abandoned’.\n"
     ]
    }
   ],
   "source": [
    "print(final[4][2])"
   ]
  },
  {
   "cell_type": "code",
   "execution_count": 13,
   "metadata": {},
   "outputs": [],
   "source": [
    "cols = [\"question\",\"explanation\",\"answer\"]"
   ]
  },
  {
   "cell_type": "code",
   "execution_count": 14,
   "metadata": {},
   "outputs": [],
   "source": [
    "df = pd.DataFrame(final,columns=cols)"
   ]
  },
  {
   "cell_type": "code",
   "execution_count": 15,
   "metadata": {},
   "outputs": [],
   "source": [
    "df.to_csv('indeed_13.csv')"
   ]
  }
 ],
 "metadata": {
  "kernelspec": {
   "display_name": "Python 3",
   "language": "python",
   "name": "python3"
  },
  "language_info": {
   "codemirror_mode": {
    "name": "ipython",
    "version": 3
   },
   "file_extension": ".py",
   "mimetype": "text/x-python",
   "name": "python",
   "nbconvert_exporter": "python",
   "pygments_lexer": "ipython3",
   "version": "3.10.0"
  }
 },
 "nbformat": 4,
 "nbformat_minor": 2
}

{
 "cells": [
  {
   "cell_type": "code",
   "execution_count": 1,
   "metadata": {},
   "outputs": [],
   "source": [
    "# Import necessary libraries\n",
    "\n",
    "from selenium import webdriver\n",
    "from selenium.webdriver.common.by import By\n",
    "from selenium.webdriver.common.keys import Keys\n",
    "from selenium.webdriver.support.wait import WebDriverWait\n",
    "from selenium.webdriver.support import expected_conditions as EC\n",
    "from selenium.common.exceptions import TimeoutException\n",
    "import time\n",
    "from itertools import repeat\n",
    "import pandas as pd\n",
    "import configparser\n",
    "import numpy as np\n",
    "\n",
    "import os\n",
    "os.environ['PATH'] += r\"C:/SeleniumDrivers\"\n",
    "\n",
    "# Initialize the WebDriver using Chrome\n",
    "driver = webdriver.Chrome()\n",
    "driver.maximize_window()  # Maximize the browser window"
   ]
  },
  {
   "cell_type": "code",
   "execution_count": 2,
   "metadata": {},
   "outputs": [],
   "source": [
    "driver.get(\"https://www.indeed.com/career-advice/interviewing/customer-service-interview-questions-and-answers\")"
   ]
  },
  {
   "cell_type": "code",
   "execution_count": 3,
   "metadata": {},
   "outputs": [],
   "source": [
    "questions = driver.find_elements(By.CSS_SELECTOR, 'h3[class=\"rich-text-component css-18fte31 e1tiznh50\"]')"
   ]
  },
  {
   "cell_type": "code",
   "execution_count": 5,
   "metadata": {},
   "outputs": [
    {
     "name": "stdout",
     "output_type": "stream",
     "text": [
      "1. What is customer service?\n",
      "2. How can you improve a dissatisfied customer's experience?\n",
      "3. Describe a time you collaborated with a peer to solve a problem\n",
      "4. What would you do if you didn't know how to help a customer?\n",
      "5. How would past colleagues or classmates describe you?\n",
      "6. How you would handle a customer who was upset about a known problem with your product or service?\n",
      "7. Are you proficient in the use of any customer service software?\n",
      "8. Why do you want to work in customer service?\n",
      "9. What do you think of our company's products and services?\n",
      "10. What skills should a great customer service representative have?\n",
      "11. What's your process for de-escalating a customer argument?\n",
      "12. What are you hoping to do in five years?\n",
      "13. What role does empathy play in customer service?\n",
      "14. Describe a mistake you made handling a customer service problem and how you would handle it now\n",
      "15. How would you handle a customer you know is wrong?\n"
     ]
    }
   ],
   "source": [
    "questionz = []\n",
    "for question in questions:\n",
    "    print(question.text)\n",
    "    questionz.append(question.text)"
   ]
  },
  {
   "cell_type": "code",
   "execution_count": 6,
   "metadata": {},
   "outputs": [
    {
     "name": "stdout",
     "output_type": "stream",
     "text": [
      "15\n"
     ]
    }
   ],
   "source": [
    "print(len(questionz))"
   ]
  },
  {
   "cell_type": "code",
   "execution_count": 9,
   "metadata": {},
   "outputs": [],
   "source": [
    "texts = driver.find_elements(By.CSS_SELECTOR,'p[class=\"rich-text-component css-1g5t2dl e1wnkr790\"]')"
   ]
  },
  {
   "cell_type": "code",
   "execution_count": 13,
   "metadata": {},
   "outputs": [
    {
     "name": "stdout",
     "output_type": "stream",
     "text": [
      "15\n",
      "15\n"
     ]
    }
   ],
   "source": [
    "answer = []\n",
    "\n",
    "explanation = []\n",
    "\n",
    "previous = texts[0]\n",
    "\n",
    "for text in texts[1:]:\n",
    "    \n",
    "    current = text\n",
    "    if \"Example:\" in current.text:\n",
    "        \n",
    "        explanation.append(previous.text)\n",
    "        \n",
    "        answer.append(text.text)\n",
    "    \n",
    "    previous = current\n",
    "        \n",
    "print(len(answer))\n",
    "print(len(explanation))"
   ]
  },
  {
   "cell_type": "code",
   "execution_count": 15,
   "metadata": {},
   "outputs": [],
   "source": [
    "final = []\n",
    "\n",
    "for i in range(len(answer)):\n",
    "    \n",
    "    final.append([])\n",
    "    \n",
    "    final[i].append(questionz[i])\n",
    "    final[i].append(explanation[i])\n",
    "    final[i].append(answer[i])\n",
    "    \n",
    "    \n",
    "    \n",
    "    "
   ]
  },
  {
   "cell_type": "code",
   "execution_count": 16,
   "metadata": {},
   "outputs": [
    {
     "name": "stdout",
     "output_type": "stream",
     "text": [
      "['1. What is customer service?', 'Hiring managers might start the interview off by asking for your definition of customer service. They may want to gain a better understanding of how you think about the position and your perception of customer interactions. When you answer, be specific and try to use unique language reflective of your thoughts and personality rather than a cliche response or dictionary definition.', 'Example: \"Customer service is the act of providing the customer with the support they require to make purchasing decisions, understand the product or seek guidance from the company. It\\'s an important role that can take many forms depending on the company and its clients.\"']\n",
      "[\"2. How can you improve a dissatisfied customer's experience?\", 'One of the many responsibilities of a customer service representative\\nis handling complaints from unhappy customers. The hiring manager typically wants to ensure that you have the necessary skills and tact to manage these situations successfully. If you have experience solving a problem like this from a past position, you can reference it in your answer.', 'Example: \"I\\'ve found the most successful strategy for turning an unhappy customer into a happy customer is by actively listening to what they\\'re saying. Sometimes, customers just want you to listen to them, and they want to feel like the company cares about them and their opinions. ']\n",
      "['3. Describe a time you collaborated with a peer to solve a problem', \"Customer service is often a position that depends on successful teamwork. The hiring manager may want to know if you're comfortable working with others and have the communication skills\\nnecessary to complete team projects together. When you provide your anecdote, make sure to discuss the problem, your action steps and your coworker's contributions clearly.\", 'Example: \"We had a particularly busy day after the launch of a new product, and one of our point-of-sale machines went down, causing checkout lines to grow long. I discussed the issue with another rep, and we decided one of us would work the remaining POS system\\nand the other would walk through the line, checking in with customers and offering a coupon as a thank you for their patience.\"']\n",
      "[\"4. What would you do if you didn't know how to help a customer?\", \"On occasion, you may encounter a customer's problem that's outside of your purview. Hiring managers want to see that you understand the company's hierarchy and have a good command of in-the-moment problem-solving to ensure you can meet the customer's needs or connect them with the appropriate team member\\nwho can assist them adequately. When answering this question, speak to the company's employee organization specifically if possible.\", 'Example: \"If I wasn\\'t able to help the customer, I would ask the customer to rest comfortably while I paged the floor manager\\n. Then, I would relay the situation to the manager so they had an understanding of the issue before speaking with the customer. I would be sure to introduce the manager to the customer to ensure the customer didn\\'t feel abandoned.\"']\n",
      "['5. How would past colleagues or classmates describe you?', \"Customer service representatives\\ninteract frequently with customers, meaning it's essential to know how to communicate and remain positive. Use descriptors for yourself that reflect your personality and align well with the necessary skills for a customer service representative in your answer.\", 'Example: \"At my last job, my peers nicknamed me \"Smiley\" because I try to smile as much as possible. It makes me feel more positive and helps put customers at ease.\"']\n",
      "['6. How you would handle a customer who was upset about a known problem with your product or service?', \"When asking this question, the hiring manager may want to know if you're able to handle difficult issues, like a defective product. This is another great opportunity to share an anecdote from a past position if you have one. If you don't, consider providing an example using one of the company's own services or products.\", 'Example: \"If a customer came to me stating that the zipper on their bag broke after a week, and the company was aware of the zipper issue, I would start by apologizing and reassuring them that we are doing all we can to resolve the issue. Next, I would offer either a full refund or a trade-in for a different product. If the company issued specific guidelines to mitigate the problem, I would adhere to those.\"']\n",
      "['7. Are you proficient in the use of any customer service software?', \"Depending on the specifics of your customer service role, the hiring manager might expect you to work on customer service software. Describe any relevant experience you have. If you don't have any experience working with specific programs, discuss your ability to learn and openness to training.\", 'Example: \"I used a traditional POS system at my last job. I\\'m a very quick learner and would be happy to train on other programs to grow my skillset and better perform the job.\"']\n",
      "['8. Why do you want to work in customer service?', \"The hiring manager wants to know that you're serious about the role and find enjoyment in the responsibilities. Be honest about why you want to work in the position when you answer.\", 'Example: \"I love this company and I\\'m passionate about helping others. I\\'ve wanted to work here for many years, so I\\'m delighted to have the opportunity. Since I\\'m so excited about the work that you do here, I know that I can do well when helping customers address their questions and concerns while positively representing the company.\"']\n",
      "[\"9. What do you think of our company's products and services?\", \"Recruiters may ask this question to learn whether you've done some research into what the company does and sells. You must learn as much as you can about the business before you go into your interview. When you answer, describe the product or service and then honestly answer why you like it.\", 'Example: \"As someone who exercises every day, finding workout clothes that are supportive and long-lasting is really important to me. I love that the products this company makes are all well-designed and built to last. I own many pieces from the brand, and I know I can represent their quality well to customers.\"']\n",
      "['10. What skills should a great customer service representative have?', \"Hiring managers want to know that you understand what's expected from the position and that you have the corresponding skills to perform it well. In your answer, use the skills and qualifications listed in the job description and tie them to your own skills when possible.\", 'Example: \"I think the skills great customer service representatives most commonly have are strong communication, positivity and problem-solving. They must clearly communicate with customers, both by answering questions or explaining policies in addition to actively listening to the customer. It\\'s vital to remain positive, even with an upset customer. Finally, solving problems for customers is both a skill and a necessary qualification for the position.\"']\n",
      "[\"11. What's your process for de-escalating a customer argument?\", 'Customer service representatives must remain professional under stress whenever possible. The hiring manager might ask this question to see what procedures you have to keep yourself and the customer from becoming overly emotional. If you have an example from a past job, share it in your answer.', 'Example: \"My process for helping customers calm down is to first really listen to what they\\'re saying. Even if they raise their voice, I try to keep myself calm by taking deep breaths. Once the customer finishes speaking, I thank them for sharing their concerns and validating their feelings. I ask what they would like to see the company do to try and rectify the situation. I\\'ve found this works well to at least bring the customer\\'s emotions down so that we can start addressing the actual problem.\"']\n",
      "['12. What are you hoping to do in five years?', 'Hiring managers want to know what your career ambitions are. Depending on the company and the specifics of the position, they might be looking for someone who plans to stay with the company and progress through the ranks. Be honest about your trajectory and thoughtful about how this position will support your career goals when you answer.', 'Example: \"I would love to work as a manager in this company in the next five years. I think working in customer service is absolutely vital since I\\'ll get such a great feel for what customers need and want. I enjoy the responsibilities of working as a customer service representative, so I think this position is a great fit for me and my career ambitions.\"']\n",
      "['13. What role does empathy play in customer service?', \"Most customer service positions require a great deal of empathy. Understanding and appreciating the customer's point of view can help you better meet their needs. Hiring managers want to be sure you understand the importance of this skill and know how to use it. In your answer, explain how specifically empathy helps a customer service representative do their job.\", 'Example: \"It\\'s absolutely vital for customer service representatives to have empathy, particularly when customers are upset. When I take the time to truly listen and understand their point of view, it helps me problem-solve much better, and it helps the customer see that the company cares about them.\"']\n",
      "['14. Describe a mistake you made handling a customer service problem and how you would handle it now', \"Hiring managers know that everyone makes occasional mistakes on the job. What they want to see is that you're capable of recognizing your errors, learning from them and performing more effectively the next time you're faced with that situation. When you answer, take responsibility for whatever error you made and clearly explain what you would do differently.\", 'Example: \"In a past position, I didn\\'t understand how to use the provided headset, but it embarrassed me to ask for help. I tried to figure it out on my own and ended up missing important instructions. A colleague helped me with the headset during my next shift. Now, if I was faced with a similar issue, I would immediately ask for help so that I could begin my work successfully.\"']\n",
      "['15. How would you handle a customer you know is wrong?', \"Sometimes customers might have incorrect information. When this happens, you must handle the situation delicately. Hiring managers want to see that you're able to tactfully address miscommunications with customers and manage problems well. In your answer, refer to a real-life example if you have one.\", 'Example: \"I once helped a customer who wanted to use a coupon we no longer accepted. They were unhappy that I wouldn\\'t accept the coupon and continued to tell me they were right and I was wrong. I informed them that the coupon was no longer valid and offered them some alternative discount options after validating their feelings of frustration.\"']\n"
     ]
    }
   ],
   "source": [
    "for i in final:\n",
    "    \n",
    "    print(i)"
   ]
  },
  {
   "cell_type": "code",
   "execution_count": 17,
   "metadata": {},
   "outputs": [
    {
     "name": "stdout",
     "output_type": "stream",
     "text": [
      "5. How would past colleagues or classmates describe you?\n"
     ]
    }
   ],
   "source": [
    "print(final[4][0])"
   ]
  },
  {
   "cell_type": "code",
   "execution_count": 18,
   "metadata": {},
   "outputs": [
    {
     "name": "stdout",
     "output_type": "stream",
     "text": [
      "Customer service representatives\n",
      "interact frequently with customers, meaning it's essential to know how to communicate and remain positive. Use descriptors for yourself that reflect your personality and align well with the necessary skills for a customer service representative in your answer.\n"
     ]
    }
   ],
   "source": [
    "print(final[4][1])"
   ]
  },
  {
   "cell_type": "code",
   "execution_count": 19,
   "metadata": {},
   "outputs": [
    {
     "name": "stdout",
     "output_type": "stream",
     "text": [
      "Example: \"At my last job, my peers nicknamed me \"Smiley\" because I try to smile as much as possible. It makes me feel more positive and helps put customers at ease.\"\n"
     ]
    }
   ],
   "source": [
    "print(final[4][2])"
   ]
  },
  {
   "cell_type": "code",
   "execution_count": 20,
   "metadata": {},
   "outputs": [],
   "source": [
    "cols = [\"question\",\"explanation\",\"answer\"]"
   ]
  },
  {
   "cell_type": "code",
   "execution_count": 21,
   "metadata": {},
   "outputs": [],
   "source": [
    "df = pd.DataFrame(final,columns=cols)"
   ]
  },
  {
   "cell_type": "code",
   "execution_count": 22,
   "metadata": {},
   "outputs": [],
   "source": [
    "df.to_csv('indeed_15_explanations.csv')"
   ]
  }
 ],
 "metadata": {
  "kernelspec": {
   "display_name": "Python 3",
   "language": "python",
   "name": "python3"
  },
  "language_info": {
   "codemirror_mode": {
    "name": "ipython",
    "version": 3
   },
   "file_extension": ".py",
   "mimetype": "text/x-python",
   "name": "python",
   "nbconvert_exporter": "python",
   "pygments_lexer": "ipython3",
   "version": "3.10.0"
  }
 },
 "nbformat": 4,
 "nbformat_minor": 2
}

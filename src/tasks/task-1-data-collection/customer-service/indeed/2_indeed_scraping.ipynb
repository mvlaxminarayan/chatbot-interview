{
 "cells": [
  {
   "cell_type": "code",
   "execution_count": 1,
   "metadata": {},
   "outputs": [],
   "source": [
    "# Import necessary libraries\n",
    "\n",
    "from selenium import webdriver\n",
    "from selenium.webdriver.common.by import By\n",
    "from selenium.webdriver.common.keys import Keys\n",
    "from selenium.webdriver.support.wait import WebDriverWait\n",
    "from selenium.webdriver.support import expected_conditions as EC\n",
    "from selenium.common.exceptions import TimeoutException\n",
    "import time\n",
    "from itertools import repeat\n",
    "import pandas as pd\n",
    "import configparser\n",
    "import numpy as np\n",
    "\n",
    "import os\n",
    "os.environ['PATH'] += r\"C:/SeleniumDrivers\"\n",
    "\n",
    "# Initialize the WebDriver using Chrome\n",
    "driver = webdriver.Chrome()\n",
    "driver.maximize_window()  # Maximize the browser window"
   ]
  },
  {
   "cell_type": "code",
   "execution_count": 2,
   "metadata": {},
   "outputs": [],
   "source": [
    "driver.get(\"https://ca.indeed.com/career-advice/interviewing/customer-service-questions-and-answers\")"
   ]
  },
  {
   "cell_type": "code",
   "execution_count": 3,
   "metadata": {},
   "outputs": [],
   "source": [
    "questions = driver.find_elements(By.CSS_SELECTOR, 'h3[class=\"rich-text-component css-18fte31 e1tiznh50\"]')"
   ]
  },
  {
   "cell_type": "code",
   "execution_count": 5,
   "metadata": {},
   "outputs": [
    {
     "name": "stdout",
     "output_type": "stream",
     "text": [
      "1. How would you improve the experience of dissatisfied customers?\n",
      "2. How do you collaborate with your team members to solve a customer's problem?\n",
      "3. What steps will it take if you don't know how to solve a customer's problem?\n",
      "4. What customer service tools do you have experience using?\n",
      "5. What customer service software do you have experience using?\n",
      "6. What skills does a great customer service representative need?\n",
      "7. What steps do you take to de-escalate a customer argument?\n",
      "8. How would you handle a situation where your customer is wrong?\n",
      "9. Have you ever made a mistake while handling a customer service problem? How would you manage it now?\n",
      "10. How do you feel about working at night, on the weekend or in the early mornings to maintain our 24-hour customer service policy?\n",
      "11. How do you balance local volume with internal responsibilities like follow-ups or administrative work?\n",
      "12. What do you know about our product service or company?\n",
      "13. Do you have experience working remotely? What skills do you need to work remotely?\n",
      "14. How do you keep yourself motivated when the job seems repetitive?\n",
      "15. How would you manage a customer whose issue is taking too long to resolve?\n"
     ]
    }
   ],
   "source": [
    "questionx = []\n",
    "for question in questions:\n",
    "    print(question.text)\n",
    "    questionx.append(question.text)"
   ]
  },
  {
   "cell_type": "code",
   "execution_count": 6,
   "metadata": {},
   "outputs": [
    {
     "name": "stdout",
     "output_type": "stream",
     "text": [
      "15\n"
     ]
    }
   ],
   "source": [
    "print(len(questionx))"
   ]
  },
  {
   "cell_type": "code",
   "execution_count": 11,
   "metadata": {},
   "outputs": [],
   "source": [
    "texts = driver.find_elements(By.CSS_SELECTOR, 'p[class=\"rich-text-component css-1g5t2dl e1wnkr790\"]')"
   ]
  },
  {
   "cell_type": "code",
   "execution_count": 12,
   "metadata": {},
   "outputs": [],
   "source": [
    "explanation= []\n",
    "answer = []\n",
    "\n",
    "previous = texts[0]\n",
    "\n",
    "for text in texts[1:]:\n",
    "    \n",
    "    current =text\n",
    "    \n",
    "    if \"Example:\" in current.text:\n",
    "        \n",
    "        explanation.append(previous.text)\n",
    "        answer.append(current.text)\n",
    "        \n",
    "    previous = current"
   ]
  },
  {
   "cell_type": "code",
   "execution_count": 13,
   "metadata": {},
   "outputs": [
    {
     "name": "stdout",
     "output_type": "stream",
     "text": [
      "15\n",
      "15\n"
     ]
    }
   ],
   "source": [
    "print(len(explanation))\n",
    "print(len(answer))"
   ]
  },
  {
   "cell_type": "code",
   "execution_count": 14,
   "metadata": {},
   "outputs": [
    {
     "name": "stdout",
     "output_type": "stream",
     "text": [
      "Customer service software performs various customer relationship management functions. Some of the most common customer service software include collaboration tools, ticketing systems and CRMs. You also need to show your desire to learn new systems.\n",
      "Example: “I have considerable experience using customer service software like Zendesk for customer relationship management live chat software and Jira for ticketing. I also constantly research new tools and am willing to learn how your company makes customer service more efficient through automation.”\n"
     ]
    }
   ],
   "source": [
    "print(explanation[4])\n",
    "print(answer[4])"
   ]
  },
  {
   "cell_type": "code",
   "execution_count": 17,
   "metadata": {},
   "outputs": [],
   "source": [
    "final = []\n",
    "\n",
    "for i in range(len(answer)):\n",
    "    \n",
    "    final.append([])\n",
    "    \n",
    "    final[i].append(questionx[i])\n",
    "    final[i].append(explanation[i])\n",
    "    final[i].append(answer[i])\n"
   ]
  },
  {
   "cell_type": "code",
   "execution_count": 19,
   "metadata": {},
   "outputs": [
    {
     "name": "stdout",
     "output_type": "stream",
     "text": [
      "Example: “At my first Internship as a customer service representative, I was supposed to forward a customer's call to the tech department and confused the number with the financial department because they were similar. We did waste some valuable customer service time, but I learned from my mistake, and I got the company's phone sheet to be more accurate.”\n"
     ]
    }
   ],
   "source": [
    "print(final[8][2])"
   ]
  },
  {
   "cell_type": "code",
   "execution_count": 20,
   "metadata": {},
   "outputs": [],
   "source": [
    "cols = [\"question\", \"explanation\", \"answer\"]\n"
   ]
  },
  {
   "cell_type": "code",
   "execution_count": 21,
   "metadata": {},
   "outputs": [],
   "source": [
    "df = pd.DataFrame(final, columns = cols)"
   ]
  },
  {
   "cell_type": "code",
   "execution_count": 22,
   "metadata": {},
   "outputs": [],
   "source": [
    "df.to_csv(\"indeed_15_2022.csv\")"
   ]
  }
 ],
 "metadata": {
  "kernelspec": {
   "display_name": "Python 3",
   "language": "python",
   "name": "python3"
  },
  "language_info": {
   "codemirror_mode": {
    "name": "ipython",
    "version": 3
   },
   "file_extension": ".py",
   "mimetype": "text/x-python",
   "name": "python",
   "nbconvert_exporter": "python",
   "pygments_lexer": "ipython3",
   "version": "3.10.0"
  }
 },
 "nbformat": 4,
 "nbformat_minor": 2
}

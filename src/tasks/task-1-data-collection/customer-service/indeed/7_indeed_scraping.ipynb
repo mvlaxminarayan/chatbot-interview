{
 "cells": [
  {
   "cell_type": "code",
   "execution_count": 1,
   "metadata": {},
   "outputs": [],
   "source": [
    "# Import necessary libraries\n",
    "\n",
    "from selenium import webdriver\n",
    "from selenium.webdriver.common.by import By\n",
    "from selenium.webdriver.common.keys import Keys\n",
    "from selenium.webdriver.support.wait import WebDriverWait\n",
    "from selenium.webdriver.support import expected_conditions as EC\n",
    "from selenium.common.exceptions import TimeoutException\n",
    "import time\n",
    "from itertools import repeat\n",
    "import pandas as pd\n",
    "import configparser\n",
    "import numpy as np\n",
    "\n",
    "import os\n",
    "os.environ['PATH'] += r\"C:/SeleniumDrivers\"\n",
    "\n",
    "# Initialize the WebDriver using Chrome\n",
    "driver = webdriver.Chrome()\n",
    "driver.maximize_window()  # Maximize the browser window"
   ]
  },
  {
   "cell_type": "code",
   "execution_count": 2,
   "metadata": {},
   "outputs": [],
   "source": [
    "driver.get(\"https://uk.indeed.com/career-advice/interviewing/customer-service-interview-questions\")"
   ]
  },
  {
   "cell_type": "code",
   "execution_count": 5,
   "metadata": {},
   "outputs": [],
   "source": [
    "texts = driver.find_elements(By.CSS_SELECTOR, \"h3[class='rich-text-component css-18fte31 e1tiznh50']\")"
   ]
  },
  {
   "cell_type": "code",
   "execution_count": 24,
   "metadata": {},
   "outputs": [
    {
     "name": "stdout",
     "output_type": "stream",
     "text": [
      "1. What does customer service mean to you?\n",
      "2. What's one time you dealt with a difficult customer and how did you find a resolution?\n",
      "3. What's one time you helped a customer who had spoken to multiple agents without getting a solution?\n",
      "4. Which mode of communication do you prefer?\n",
      "5. How well do you know our company and product?\n",
      "7. How you would handle a customer who was upset about a known problem with your product or service?\n",
      "8. How would past co-workers or classmates describe you?\n"
     ]
    }
   ],
   "source": [
    "questions = []\n",
    "for text in texts:\n",
    "    if \"?\" in text.text:\n",
    "        questions.append(text.text)\n",
    "        print(text.text)"
   ]
  },
  {
   "cell_type": "code",
   "execution_count": 25,
   "metadata": {},
   "outputs": [],
   "source": [
    "questions.insert(5,\"6. Describe a time you collaborated with a peer to solve a problem\")"
   ]
  },
  {
   "cell_type": "code",
   "execution_count": 9,
   "metadata": {},
   "outputs": [],
   "source": [
    "textz = driver.find_elements(By.CSS_SELECTOR,'p[class=\"rich-text-component css-1g5t2dl e1wnkr790\"]')\n"
   ]
  },
  {
   "cell_type": "code",
   "execution_count": 12,
   "metadata": {},
   "outputs": [
    {
     "name": "stdout",
     "output_type": "stream",
     "text": [
      "Example: “To me, customer service means that a customer or client gets the best experience they can. By learning about myself, I have figured out that I can find practical solutions to raising issues as I listen to customer concerns, perspectives and desires. I always enjoy helping a customer find a solution that they could never have thought of, especially if it's a solution that makes them happy and satisfies their needs.“\n",
      "Example: “I was handling phone support for a major internet service provider when I received a phone call from an upset customer about their computer. I deescalated the situation and led them to explain their frustrations before acting quickly to ensure the customer's internet was fixed. I explained I understood their frustrations and asked them several standard questions to help them fix the problem.“\n",
      "Example: “In the company I worked with before, tough calls had to be taken up the chain of command. However, if I faced a difficult situation, I would do my best to avoid transferring the customer to another agent. First, I would get all the details about the call from the agent who transfers it to me. Then, I would tell the customer to explain the issue to me in their own words to ensure no miscommunication occurred. I would check the basic details to ensure that nothing was missed.“\n",
      "Example: “While I enjoy using many modes of communication, I find it easy to pick up certain people's frustrations better when speaking to a person directly or via the phone. In the past, I have also found this mode to be effective at forming connections with customers as opposed to text-based communication or social media, which can have slow responses.“\n",
      "Example: “I have been using your shoe polish for years. I have tried other brands but found none that offer an excellent match of quality and great price. I also love the fact that your company pays attention to the needs of a customer like me when designing your products.“\n",
      "Example: \"After a recent launch in the company I work for, one of our point of sale machines went down leading to a very busy day. The check out queues grew long and in an effort to solve the problem I talked to my coworker and we agreed that one of us should check on the system as the other walks through the line and reassures customers. We even offered a coupon to thank the customers for their patience and avoided a panic situation within the store.\"\n",
      "Example: \"If I had a responsibility to interact with customers inside a retail store, I may face an issue such as a customer having a defective zipper bag as soon as they had taken the bag they bought home. The first thing I would do is to apologise profusely, then offer either a full refund or a trade-in for a different product. If the manufacturer specified several things on how to prevent the issue, I would obey their instructions.\"\n",
      "Example: \"My colleagues used to call me 'Smiley' in my last job because I used to maintain a smile at all times, regardless of the situation. The smile helps me to maintain a positive attitude and ease the tensions of customers.\"\n"
     ]
    }
   ],
   "source": [
    "examples = []\n",
    "\n",
    "for text in textz:\n",
    "    if \"Example:\" in text.text:\n",
    "        \n",
    "        examples.append(text.text)\n",
    "        \n",
    "        print(text.text)"
   ]
  },
  {
   "cell_type": "code",
   "execution_count": 13,
   "metadata": {},
   "outputs": [
    {
     "name": "stdout",
     "output_type": "stream",
     "text": [
      "8\n"
     ]
    }
   ],
   "source": [
    "print(len(examples))"
   ]
  },
  {
   "cell_type": "code",
   "execution_count": 14,
   "metadata": {},
   "outputs": [],
   "source": [
    "example1 = []\n",
    "example2 = []\n",
    "\n",
    "previous = texts[0]\n",
    "\n",
    "for text in textz[1:]:\n",
    "    \n",
    "    current = text\n",
    "    \n",
    "    if \"Example:\" in current.text:\n",
    "        \n",
    "        example2.append(current.text)\n",
    "        example1.append(previous.text)\n",
    "    \n",
    "    previous  = current\n",
    "    \n",
    "    \n",
    "\n"
   ]
  },
  {
   "cell_type": "code",
   "execution_count": 18,
   "metadata": {},
   "outputs": [
    {
     "name": "stdout",
     "output_type": "stream",
     "text": [
      "When hiring managers ask this question, they want to know whether you have the right mindset and philosophy to approach the job. They may also want to figure out your motivations for a job in customer service. Your answer should highlight the positive aspects of customer service and demonstrate that you have them.\n",
      "This question helps the interviewer to evaluate your attitude and problem-solving skills and may require you to show how you can take ownership of a problem. This means acknowledging that even if a certain problem was not your fault, you can take responsibility and fix it. Think of the difficult situation you have been in before and how you got to a solution.\n",
      "This question aims to show your ability to overcome challenges. The interviewer may also want to see that you understand the customer's frustration and can empathise with them. Having been passed around many times, they might be frustrated and tired to speak to yet another agent.\n",
      "This question evaluates how you will fare depending on the mode of communication customers prefer. You need to keep in mind the job description\n",
      "of the role you applied for and the mode of communication it emphasises. Then, structure your answer in a manner that shows you are comfortable and have sufficient experience handling the said mode.\n",
      "This question evaluates whether you researched the company thoroughly before the interview. You should have spent your time researching the company before the interview and understood what to say about them and their product.\n",
      "There is a lot of teamwork\n",
      "involved in customer service and an interviewer will want to know whether you are comfortable working with other people. This entails having great communication and people skills to put together and complete team projects. As you offer an anecdote, do not forget to state the problem, the action you took and how your coworkers contributed.\n",
      "When asking this question, the hiring manager wants to know if you can be able to address complicated issues, such as faulty products. It is a great opportunity to share an anecdote that you have from the past. If you don't have any, consider using one of the company's services or products to exemplify your answer.\n",
      "As a customer service representative, you will frequently interact with customers and need to know how to communicate effectively while remaining positive. You can use several descriptive scenes to show how you have used the essential job skills\n",
      "in the past.\n"
     ]
    }
   ],
   "source": [
    "for i in example1:\n",
    "    print(i)"
   ]
  },
  {
   "cell_type": "code",
   "execution_count": 19,
   "metadata": {},
   "outputs": [
    {
     "name": "stdout",
     "output_type": "stream",
     "text": [
      "Example: “To me, customer service means that a customer or client gets the best experience they can. By learning about myself, I have figured out that I can find practical solutions to raising issues as I listen to customer concerns, perspectives and desires. I always enjoy helping a customer find a solution that they could never have thought of, especially if it's a solution that makes them happy and satisfies their needs.“\n",
      "Example: “I was handling phone support for a major internet service provider when I received a phone call from an upset customer about their computer. I deescalated the situation and led them to explain their frustrations before acting quickly to ensure the customer's internet was fixed. I explained I understood their frustrations and asked them several standard questions to help them fix the problem.“\n",
      "Example: “In the company I worked with before, tough calls had to be taken up the chain of command. However, if I faced a difficult situation, I would do my best to avoid transferring the customer to another agent. First, I would get all the details about the call from the agent who transfers it to me. Then, I would tell the customer to explain the issue to me in their own words to ensure no miscommunication occurred. I would check the basic details to ensure that nothing was missed.“\n",
      "Example: “While I enjoy using many modes of communication, I find it easy to pick up certain people's frustrations better when speaking to a person directly or via the phone. In the past, I have also found this mode to be effective at forming connections with customers as opposed to text-based communication or social media, which can have slow responses.“\n",
      "Example: “I have been using your shoe polish for years. I have tried other brands but found none that offer an excellent match of quality and great price. I also love the fact that your company pays attention to the needs of a customer like me when designing your products.“\n",
      "Example: \"After a recent launch in the company I work for, one of our point of sale machines went down leading to a very busy day. The check out queues grew long and in an effort to solve the problem I talked to my coworker and we agreed that one of us should check on the system as the other walks through the line and reassures customers. We even offered a coupon to thank the customers for their patience and avoided a panic situation within the store.\"\n",
      "Example: \"If I had a responsibility to interact with customers inside a retail store, I may face an issue such as a customer having a defective zipper bag as soon as they had taken the bag they bought home. The first thing I would do is to apologise profusely, then offer either a full refund or a trade-in for a different product. If the manufacturer specified several things on how to prevent the issue, I would obey their instructions.\"\n",
      "Example: \"My colleagues used to call me 'Smiley' in my last job because I used to maintain a smile at all times, regardless of the situation. The smile helps me to maintain a positive attitude and ease the tensions of customers.\"\n"
     ]
    }
   ],
   "source": [
    "for j in example2:\n",
    "    print(j)"
   ]
  },
  {
   "cell_type": "code",
   "execution_count": 26,
   "metadata": {},
   "outputs": [
    {
     "name": "stdout",
     "output_type": "stream",
     "text": [
      "8\n",
      "8\n",
      "8\n"
     ]
    }
   ],
   "source": [
    "print(len(example1))\n",
    "print(len(example2))\n",
    "print(len(questions))"
   ]
  },
  {
   "cell_type": "code",
   "execution_count": 30,
   "metadata": {},
   "outputs": [],
   "source": [
    "final = []\n",
    "\n",
    "for i in range(len(example2)):\n",
    "    final.append([])\n",
    "    final[i].append(questions[i])\n",
    "    final[i].append(example1[i])\n",
    "    final[i].append(example2[i])\n",
    "    "
   ]
  },
  {
   "cell_type": "code",
   "execution_count": 31,
   "metadata": {},
   "outputs": [
    {
     "name": "stdout",
     "output_type": "stream",
     "text": [
      "['1. What does customer service mean to you?', 'When hiring managers ask this question, they want to know whether you have the right mindset and philosophy to approach the job. They may also want to figure out your motivations for a job in customer service. Your answer should highlight the positive aspects of customer service and demonstrate that you have them.', \"Example: “To me, customer service means that a customer or client gets the best experience they can. By learning about myself, I have figured out that I can find practical solutions to raising issues as I listen to customer concerns, perspectives and desires. I always enjoy helping a customer find a solution that they could never have thought of, especially if it's a solution that makes them happy and satisfies their needs.“\"]\n",
      "[\"2. What's one time you dealt with a difficult customer and how did you find a resolution?\", 'This question helps the interviewer to evaluate your attitude and problem-solving skills and may require you to show how you can take ownership of a problem. This means acknowledging that even if a certain problem was not your fault, you can take responsibility and fix it. Think of the difficult situation you have been in before and how you got to a solution.', \"Example: “I was handling phone support for a major internet service provider when I received a phone call from an upset customer about their computer. I deescalated the situation and led them to explain their frustrations before acting quickly to ensure the customer's internet was fixed. I explained I understood their frustrations and asked them several standard questions to help them fix the problem.“\"]\n",
      "[\"3. What's one time you helped a customer who had spoken to multiple agents without getting a solution?\", \"This question aims to show your ability to overcome challenges. The interviewer may also want to see that you understand the customer's frustration and can empathise with them. Having been passed around many times, they might be frustrated and tired to speak to yet another agent.\", 'Example: “In the company I worked with before, tough calls had to be taken up the chain of command. However, if I faced a difficult situation, I would do my best to avoid transferring the customer to another agent. First, I would get all the details about the call from the agent who transfers it to me. Then, I would tell the customer to explain the issue to me in their own words to ensure no miscommunication occurred. I would check the basic details to ensure that nothing was missed.“']\n",
      "['4. Which mode of communication do you prefer?', 'This question evaluates how you will fare depending on the mode of communication customers prefer. You need to keep in mind the job description\\nof the role you applied for and the mode of communication it emphasises. Then, structure your answer in a manner that shows you are comfortable and have sufficient experience handling the said mode.', \"Example: “While I enjoy using many modes of communication, I find it easy to pick up certain people's frustrations better when speaking to a person directly or via the phone. In the past, I have also found this mode to be effective at forming connections with customers as opposed to text-based communication or social media, which can have slow responses.“\"]\n",
      "['5. How well do you know our company and product?', 'This question evaluates whether you researched the company thoroughly before the interview. You should have spent your time researching the company before the interview and understood what to say about them and their product.', 'Example: “I have been using your shoe polish for years. I have tried other brands but found none that offer an excellent match of quality and great price. I also love the fact that your company pays attention to the needs of a customer like me when designing your products.“']\n",
      "['6. Describe a time you collaborated with a peer to solve a problem', 'There is a lot of teamwork\\ninvolved in customer service and an interviewer will want to know whether you are comfortable working with other people. This entails having great communication and people skills to put together and complete team projects. As you offer an anecdote, do not forget to state the problem, the action you took and how your coworkers contributed.', 'Example: \"After a recent launch in the company I work for, one of our point of sale machines went down leading to a very busy day. The check out queues grew long and in an effort to solve the problem I talked to my coworker and we agreed that one of us should check on the system as the other walks through the line and reassures customers. We even offered a coupon to thank the customers for their patience and avoided a panic situation within the store.\"']\n",
      "['7. How you would handle a customer who was upset about a known problem with your product or service?', \"When asking this question, the hiring manager wants to know if you can be able to address complicated issues, such as faulty products. It is a great opportunity to share an anecdote that you have from the past. If you don't have any, consider using one of the company's services or products to exemplify your answer.\", 'Example: \"If I had a responsibility to interact with customers inside a retail store, I may face an issue such as a customer having a defective zipper bag as soon as they had taken the bag they bought home. The first thing I would do is to apologise profusely, then offer either a full refund or a trade-in for a different product. If the manufacturer specified several things on how to prevent the issue, I would obey their instructions.\"']\n",
      "['8. How would past co-workers or classmates describe you?', 'As a customer service representative, you will frequently interact with customers and need to know how to communicate effectively while remaining positive. You can use several descriptive scenes to show how you have used the essential job skills\\nin the past.', 'Example: \"My colleagues used to call me \\'Smiley\\' in my last job because I used to maintain a smile at all times, regardless of the situation. The smile helps me to maintain a positive attitude and ease the tensions of customers.\"']\n"
     ]
    }
   ],
   "source": [
    "for i in final:\n",
    "    \n",
    "    print(i)"
   ]
  },
  {
   "cell_type": "code",
   "execution_count": 33,
   "metadata": {},
   "outputs": [
    {
     "name": "stdout",
     "output_type": "stream",
     "text": [
      "There is a lot of teamwork\n",
      "involved in customer service and an interviewer will want to know whether you are comfortable working with other people. This entails having great communication and people skills to put together and complete team projects. As you offer an anecdote, do not forget to state the problem, the action you took and how your coworkers contributed.\n"
     ]
    }
   ],
   "source": [
    "print(final[5][1])"
   ]
  },
  {
   "cell_type": "code",
   "execution_count": 34,
   "metadata": {},
   "outputs": [],
   "source": [
    "cols = [\"question\",\"explanation\",\"answer\"]"
   ]
  },
  {
   "cell_type": "code",
   "execution_count": 35,
   "metadata": {},
   "outputs": [],
   "source": [
    "df = pd.DataFrame(final, columns = cols )"
   ]
  },
  {
   "cell_type": "code",
   "execution_count": 36,
   "metadata": {},
   "outputs": [],
   "source": [
    "df.to_csv(\"indeed_top_8.csv\")"
   ]
  }
 ],
 "metadata": {
  "kernelspec": {
   "display_name": "Python 3",
   "language": "python",
   "name": "python3"
  },
  "language_info": {
   "codemirror_mode": {
    "name": "ipython",
    "version": 3
   },
   "file_extension": ".py",
   "mimetype": "text/x-python",
   "name": "python",
   "nbconvert_exporter": "python",
   "pygments_lexer": "ipython3",
   "version": "3.10.0"
  }
 },
 "nbformat": 4,
 "nbformat_minor": 2
}

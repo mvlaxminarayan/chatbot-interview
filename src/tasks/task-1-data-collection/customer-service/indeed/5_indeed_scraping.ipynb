{
 "cells": [
  {
   "cell_type": "code",
   "execution_count": 1,
   "metadata": {},
   "outputs": [],
   "source": [
    "# Import necessary libraries\n",
    "\n",
    "from selenium import webdriver\n",
    "from selenium.webdriver.common.by import By\n",
    "from selenium.webdriver.common.keys import Keys\n",
    "from selenium.webdriver.support.wait import WebDriverWait\n",
    "from selenium.webdriver.support import expected_conditions as EC\n",
    "from selenium.common.exceptions import TimeoutException\n",
    "import time\n",
    "from itertools import repeat\n",
    "import pandas as pd\n",
    "import configparser\n",
    "import numpy as np\n",
    "\n",
    "import os\n",
    "os.environ['PATH'] += r\"C:/SeleniumDrivers\"\n",
    "\n",
    "# Initialize the WebDriver using Chrome\n",
    "driver = webdriver.Chrome()\n",
    "driver.maximize_window()  # Maximize the browser window"
   ]
  },
  {
   "cell_type": "code",
   "execution_count": 2,
   "metadata": {},
   "outputs": [],
   "source": [
    "driver.get(\"https://sg.indeed.com/career-advice/interviewing/customer-service-interview-questions\")"
   ]
  },
  {
   "cell_type": "code",
   "execution_count": 3,
   "metadata": {},
   "outputs": [],
   "source": [
    "questions = driver.find_elements(By.CSS_SELECTOR, 'h3[class=\"rich-text-component css-18fte31 e1tiznh50\"]')"
   ]
  },
  {
   "cell_type": "code",
   "execution_count": 4,
   "metadata": {},
   "outputs": [
    {
     "name": "stdout",
     "output_type": "stream",
     "text": [
      "1. Describe a time you collaborated with a peer to solve a problem.\n",
      "2. What would you do if you didn't know how to help a customer?\n",
      "3. How might you handle a customer's dissatisfaction with a known problem with your product or service?\n",
      "4. What skills are essential for a great customer service representative to have?\n",
      "5. How do you handle a customer you know is wrong?\n"
     ]
    }
   ],
   "source": [
    "questionz = []\n",
    "for question in questions:\n",
    "    print(question.text)\n",
    "    questionz.append(question.text)"
   ]
  },
  {
   "cell_type": "code",
   "execution_count": 5,
   "metadata": {},
   "outputs": [
    {
     "name": "stdout",
     "output_type": "stream",
     "text": [
      "5\n"
     ]
    }
   ],
   "source": [
    "print(len(questionz))"
   ]
  },
  {
   "cell_type": "code",
   "execution_count": 6,
   "metadata": {},
   "outputs": [],
   "source": [
    "texts = driver.find_elements(By.CSS_SELECTOR,'p[class=\"rich-text-component css-1g5t2dl e1wnkr790\"]')"
   ]
  },
  {
   "cell_type": "code",
   "execution_count": 7,
   "metadata": {},
   "outputs": [
    {
     "name": "stdout",
     "output_type": "stream",
     "text": [
      "5\n",
      "5\n"
     ]
    }
   ],
   "source": [
    "answer = []\n",
    "\n",
    "explanation = []\n",
    "\n",
    "previous = texts[0]\n",
    "\n",
    "for text in texts[1:]:\n",
    "    \n",
    "    current = text\n",
    "    if \"Example:\" in current.text:\n",
    "        \n",
    "        explanation.append(previous.text)\n",
    "        \n",
    "        answer.append(text.text)\n",
    "    \n",
    "    previous = current\n",
    "        \n",
    "print(len(answer))\n",
    "print(len(explanation))"
   ]
  },
  {
   "cell_type": "code",
   "execution_count": 8,
   "metadata": {},
   "outputs": [],
   "source": [
    "final = []\n",
    "\n",
    "for i in range(len(answer)):\n",
    "    \n",
    "    final.append([])\n",
    "    \n",
    "    final[i].append(questionz[i])\n",
    "    final[i].append(explanation[i])\n",
    "    final[i].append(answer[i])\n",
    "    \n",
    "    \n",
    "    \n",
    "    "
   ]
  },
  {
   "cell_type": "code",
   "execution_count": 9,
   "metadata": {},
   "outputs": [
    {
     "name": "stdout",
     "output_type": "stream",
     "text": [
      "['1. Describe a time you collaborated with a peer to solve a problem.', \"Customer service often depends on successful teamwork. Interviewers typically ask this question to find out if you're comfortable working with others and have the communication skills necessary to complete team projects. When responding, focus on stating the problem that you and your colleague encountered, the steps that you took to address the problem and any contributions that your colleague made.\", \"Example: ‘We had a particularly busy day after the launch of a new product, and one of our point-of-sale machines went down, causing checkout lines to lengthen. I discussed the issue with another customer service representative, and we decided one of us would work the remaining POS system and the other would speak with customers in the line and offer them a coupon as a token of appreciation for their patience.'\"]\n",
      "[\"2. What would you do if you didn't know how to help a customer?\", \"Sometimes a customer's problem is outside of your purview. Interviewers ask this question to ensure that you understand the company's hierarchy and know who to refer the customer's problem to so that you can meet their needs. When answering this question, speak specifically about the hiring company.\", \"Example: ‘If I am not able to help the customer, I might first ask them to sit while I paged the floor manager. I can then relay the situation to the manager so they understand the issue before speaking with the individual. I also introduce the manager to the customer to ensure the customer doesn't feel abandoned.'\"]\n",
      "[\"3. How might you handle a customer's dissatisfaction with a known problem with your product or service?\", \"An interviewer asks this question to determine if you're able to handle difficult issues that a customer might complain about, such as a defective product. This is another great opportunity to share an anecdote from a past position if you have one. If you don't, consider providing an example using one of the company's own services or products.\", \"Example: 'If a customer came to me stating that the zipper on their bag broke after a week, and the company was aware of the zipper issue, I might start by apologising profusely. Next, I offer either a full refund or a trade-in for a different product if I have the authority to do so. If the company has specific guidelines to mitigate the problem, I adhere to those instead.'\"]\n",
      "['4. What skills are essential for a great customer service representative to have?', \"Interviewers typically want to know that you understand what's expected from the position and that you have the corresponding skills to perform well. In your answer, use the skills and qualifications the company provided in the job description and match them to your own abilities. If you have time, consider providing examples of past encounters with customers or colleagues that demonstrate these skills.\", \"Example: 'I think the most common skills that great customer service representatives have are strong communication, positivity and problem-solving. Being able to answer customers' questions or explain policies clearly and listening actively helps satisfy customers with the quality of service. It's vital for a customer service representative to remain positive, even with a dissatisfied customer. I also believe that being able to solve problems for customers is both a skill and a necessary qualification for the position.'\"]\n",
      "['5. How do you handle a customer you know is wrong?', \"Sometimes customers have incorrect information about a product or a service that the company offers. When this happens, it's crucial for a customer service representative to handle the situation delicately to ensure that customers remain satisfied. An interviewer asks this question to assess if you're able to tactfully address miscommunication with customers and manage problems well. In your answer, refer to a real-life example if you have one.\", \"Example: ‘I once helped a customer who wanted to use a coupon we no longer accepted. He was very unhappy that I didn't accept the coupon and continued to tell me he was right. I told him I understood his frustration that the coupon was no longer valid, and I apologised that we could not accept it. I then offered him some alternative discount options.'\"]\n"
     ]
    }
   ],
   "source": [
    "for i in final:\n",
    "    \n",
    "    print(i)"
   ]
  },
  {
   "cell_type": "code",
   "execution_count": 10,
   "metadata": {},
   "outputs": [
    {
     "name": "stdout",
     "output_type": "stream",
     "text": [
      "5. How do you handle a customer you know is wrong?\n"
     ]
    }
   ],
   "source": [
    "print(final[4][0])"
   ]
  },
  {
   "cell_type": "code",
   "execution_count": 11,
   "metadata": {},
   "outputs": [
    {
     "name": "stdout",
     "output_type": "stream",
     "text": [
      "Sometimes customers have incorrect information about a product or a service that the company offers. When this happens, it's crucial for a customer service representative to handle the situation delicately to ensure that customers remain satisfied. An interviewer asks this question to assess if you're able to tactfully address miscommunication with customers and manage problems well. In your answer, refer to a real-life example if you have one.\n"
     ]
    }
   ],
   "source": [
    "print(final[4][1])"
   ]
  },
  {
   "cell_type": "code",
   "execution_count": 12,
   "metadata": {},
   "outputs": [
    {
     "name": "stdout",
     "output_type": "stream",
     "text": [
      "Example: ‘I once helped a customer who wanted to use a coupon we no longer accepted. He was very unhappy that I didn't accept the coupon and continued to tell me he was right. I told him I understood his frustration that the coupon was no longer valid, and I apologised that we could not accept it. I then offered him some alternative discount options.'\n"
     ]
    }
   ],
   "source": [
    "print(final[4][2])"
   ]
  },
  {
   "cell_type": "code",
   "execution_count": 13,
   "metadata": {},
   "outputs": [],
   "source": [
    "cols = [\"question\",\"explanation\",\"answer\"]"
   ]
  },
  {
   "cell_type": "code",
   "execution_count": 14,
   "metadata": {},
   "outputs": [],
   "source": [
    "df = pd.DataFrame(final,columns=cols)"
   ]
  },
  {
   "cell_type": "code",
   "execution_count": 15,
   "metadata": {},
   "outputs": [],
   "source": [
    "df.to_csv('indeed_5.csv')"
   ]
  }
 ],
 "metadata": {
  "kernelspec": {
   "display_name": "Python 3",
   "language": "python",
   "name": "python3"
  },
  "language_info": {
   "codemirror_mode": {
    "name": "ipython",
    "version": 3
   },
   "file_extension": ".py",
   "mimetype": "text/x-python",
   "name": "python",
   "nbconvert_exporter": "python",
   "pygments_lexer": "ipython3",
   "version": "3.10.0"
  }
 },
 "nbformat": 4,
 "nbformat_minor": 2
}

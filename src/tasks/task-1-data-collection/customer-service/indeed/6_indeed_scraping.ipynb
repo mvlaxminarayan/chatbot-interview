{
 "cells": [
  {
   "cell_type": "code",
   "execution_count": 1,
   "metadata": {},
   "outputs": [],
   "source": [
    "# Import necessary libraries\n",
    "\n",
    "from selenium import webdriver\n",
    "from selenium.webdriver.common.by import By\n",
    "from selenium.webdriver.common.keys import Keys\n",
    "from selenium.webdriver.support.wait import WebDriverWait\n",
    "from selenium.webdriver.support import expected_conditions as EC\n",
    "from selenium.common.exceptions import TimeoutException\n",
    "import time\n",
    "from itertools import repeat\n",
    "import pandas as pd\n",
    "import configparser\n",
    "import numpy as np\n",
    "\n",
    "import os\n",
    "os.environ['PATH'] += r\"C:/SeleniumDrivers\"\n",
    "\n",
    "# Initialize the WebDriver using Chrome\n",
    "driver = webdriver.Chrome()\n",
    "driver.maximize_window()  # Maximize the browser window"
   ]
  },
  {
   "cell_type": "code",
   "execution_count": 2,
   "metadata": {},
   "outputs": [],
   "source": [
    "driver.get(\"https://www.indeed.com/career-advice/interviewing/interview-questions-customer-service-manager\")"
   ]
  },
  {
   "cell_type": "code",
   "execution_count": 3,
   "metadata": {},
   "outputs": [],
   "source": [
    "questions = driver.find_elements(By.CSS_SELECTOR, 'h3[class=\"rich-text-component css-18fte31 e1tiznh50\"]')"
   ]
  },
  {
   "cell_type": "code",
   "execution_count": 4,
   "metadata": {},
   "outputs": [
    {
     "name": "stdout",
     "output_type": "stream",
     "text": [
      "Describe a time when you had to give a coworker feedback on their performance.\n",
      "Tell me about a time you exceeded customer expectations.\n",
      "Has a customer ever asked a question you didn't know the answer to? How did you respond?\n",
      "Have you ever successfully managed a conflict between two colleagues?\n",
      "Tell me about a time when you had to make a judgement call on a customer question.\n"
     ]
    }
   ],
   "source": [
    "questionz = []\n",
    "for question in questions:\n",
    "    print(question.text)\n",
    "    questionz.append(question.text)"
   ]
  },
  {
   "cell_type": "code",
   "execution_count": 5,
   "metadata": {},
   "outputs": [
    {
     "name": "stdout",
     "output_type": "stream",
     "text": [
      "5\n"
     ]
    }
   ],
   "source": [
    "print(len(questionz))"
   ]
  },
  {
   "cell_type": "code",
   "execution_count": 6,
   "metadata": {},
   "outputs": [],
   "source": [
    "texts = driver.find_elements(By.CSS_SELECTOR,'p[class=\"rich-text-component css-1g5t2dl e1wnkr790\"]')"
   ]
  },
  {
   "cell_type": "code",
   "execution_count": 7,
   "metadata": {},
   "outputs": [
    {
     "name": "stdout",
     "output_type": "stream",
     "text": [
      "5\n",
      "5\n"
     ]
    }
   ],
   "source": [
    "answer = []\n",
    "\n",
    "explanation = []\n",
    "\n",
    "previous = texts[0]\n",
    "\n",
    "for text in texts[1:]:\n",
    "    \n",
    "    current = text\n",
    "    if \"Example answer:\" in current.text:\n",
    "        \n",
    "        explanation.append(previous.text)\n",
    "        \n",
    "        answer.append(text.text)\n",
    "    \n",
    "    previous = current\n",
    "        \n",
    "print(len(answer))\n",
    "print(len(explanation))"
   ]
  },
  {
   "cell_type": "code",
   "execution_count": 8,
   "metadata": {},
   "outputs": [],
   "source": [
    "final = []\n",
    "\n",
    "for i in range(len(answer)):\n",
    "    \n",
    "    final.append([])\n",
    "    \n",
    "    final[i].append(questionz[i])\n",
    "    final[i].append(explanation[i])\n",
    "    final[i].append(answer[i])\n",
    "    \n",
    "    \n",
    "    \n",
    "    "
   ]
  },
  {
   "cell_type": "code",
   "execution_count": 9,
   "metadata": {},
   "outputs": [
    {
     "name": "stdout",
     "output_type": "stream",
     "text": [
      "['Describe a time when you had to give a coworker feedback on their performance.', 'This question can be helpful for employers to understand the strength of your communication skills\\n. When answering, consider describing why the feedback was necessary for the coworker, how you delivered the information respectfully and how the colleague developed or improved from your coaching.', 'Example answer: \"When I first started as a customer service representative, I had a coworker who would often have trouble working with challenging customers because he would sometimes lose his patience. Eventually, I talked to him about the problem, and I encouraged him to try to take deep breaths in between responses and to remember that our job is to try to help customers as best we can. After that, he would practice my advice and actively listen to the problems or questions customers were facing. It helped him see their side and develop stronger patience for the job.\"']\n",
      "['Tell me about a time you exceeded customer expectations.', \"It can be helpful for businesses to know how hard you'll work to make their consumers happy and improve overall customer satisfaction. This can show companies how you can use your knowledge and techniques to benefit their own organization. When answering this question, consider discussing your role in exceeding customer expectations and the positive results it had for your employer.\", 'Example answer: \"As I was working for my previous employer, I had a customer call me who purchased one of the company\\'s products, but discovered the product wasn\\'t helping them like they thought. They were asking to return the product for a refund. Unfortunately, our policy doesn\\'t allow for returns after a product\\'s use, which made her quite unhappy.']\n",
      "[\"Has a customer ever asked a question you didn't know the answer to? How did you respond?\", \"An interviewer might ask this question to better understand how you use your team and assist customers when your knowledge or expertise doesn't apply. It can be helpful to stay humble and mention a specific situation where you needed to ask a colleague or senior-manager for information you didn't already know, and how it helped the customer.\", 'Example answer: \"The first company I worked for sold scientific equipment, which I knew very little about. One day, a customer called asking about some of the specific details on the company\\'s microscopes, which I didn\\'t know because I had just started. I wrote down all of their questions, politely asked the customer to hold and then proceeded to ask my colleagues and managers about the equipment. They were able to provide me all the information I needed, and I relayed it back to the customer. They were very happy with the responses and purchased even more equipment from us.\"']\n",
      "['Have you ever successfully managed a conflict between two colleagues?', 'Potential employers sometimes like to know what experience you have resolving workplace disputes. Being able to effectively communicate with team members and discover compromises to certain conflicts are key skills that companies and businesses might look for in a customer service manager.', 'Example answer: \"While working for my current employer, I asked two team members to develop some ideas for customer satisfaction goals we could implement at the company. However, when the deadline came for their presentation, neither were prepared. Apparently, they both had different ideas for department objectives and couldn\\'t find a suitable compromise.']\n",
      "['Tell me about a time when you had to make a judgement call on a customer question.', \"While working as a customer service manager, there may be situations where the policy on a customer question or complaint isn't clear or discernable. When that happens, potential employers sometimes like to know how you used your judgement and problem-solving skills to help the customer, while not causing a major inconvenience for the company itself.\", 'Example answer: \"I once had a customer call inquiring about their warranty policy because they dropped their product in a bucket of water and wanted to know if they were covered. I thoroughly reviewed the warranty policy, but couldn\\'t find anything that matched the situation they were describing. I wasn\\'t sure exactly what to do. Eventually, after talking with my manager, I decided to replace the customer\\'s product for free and our company tweaked the warranty policy to ensure that we knew how to respond to similar questions in the future.\"']\n"
     ]
    }
   ],
   "source": [
    "for i in final:\n",
    "    \n",
    "    print(i)"
   ]
  },
  {
   "cell_type": "code",
   "execution_count": 10,
   "metadata": {},
   "outputs": [
    {
     "name": "stdout",
     "output_type": "stream",
     "text": [
      "Tell me about a time when you had to make a judgement call on a customer question.\n"
     ]
    }
   ],
   "source": [
    "print(final[4][0])"
   ]
  },
  {
   "cell_type": "code",
   "execution_count": 11,
   "metadata": {},
   "outputs": [
    {
     "name": "stdout",
     "output_type": "stream",
     "text": [
      "While working as a customer service manager, there may be situations where the policy on a customer question or complaint isn't clear or discernable. When that happens, potential employers sometimes like to know how you used your judgement and problem-solving skills to help the customer, while not causing a major inconvenience for the company itself.\n"
     ]
    }
   ],
   "source": [
    "print(final[4][1])"
   ]
  },
  {
   "cell_type": "code",
   "execution_count": 12,
   "metadata": {},
   "outputs": [
    {
     "name": "stdout",
     "output_type": "stream",
     "text": [
      "Example answer: \"I once had a customer call inquiring about their warranty policy because they dropped their product in a bucket of water and wanted to know if they were covered. I thoroughly reviewed the warranty policy, but couldn't find anything that matched the situation they were describing. I wasn't sure exactly what to do. Eventually, after talking with my manager, I decided to replace the customer's product for free and our company tweaked the warranty policy to ensure that we knew how to respond to similar questions in the future.\"\n"
     ]
    }
   ],
   "source": [
    "print(final[4][2])"
   ]
  },
  {
   "cell_type": "code",
   "execution_count": 13,
   "metadata": {},
   "outputs": [],
   "source": [
    "cols = [\"question\",\"explanation\",\"answer\"]"
   ]
  },
  {
   "cell_type": "code",
   "execution_count": 14,
   "metadata": {},
   "outputs": [],
   "source": [
    "df = pd.DataFrame(final,columns=cols)"
   ]
  },
  {
   "cell_type": "code",
   "execution_count": 15,
   "metadata": {},
   "outputs": [],
   "source": [
    "df.to_csv('indeed_5.csv')"
   ]
  }
 ],
 "metadata": {
  "kernelspec": {
   "display_name": "Python 3",
   "language": "python",
   "name": "python3"
  },
  "language_info": {
   "codemirror_mode": {
    "name": "ipython",
    "version": 3
   },
   "file_extension": ".py",
   "mimetype": "text/x-python",
   "name": "python",
   "nbconvert_exporter": "python",
   "pygments_lexer": "ipython3",
   "version": "3.10.0"
  }
 },
 "nbformat": 4,
 "nbformat_minor": 2
}

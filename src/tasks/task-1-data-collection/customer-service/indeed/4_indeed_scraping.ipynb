{
 "cells": [
  {
   "cell_type": "code",
   "execution_count": 1,
   "metadata": {},
   "outputs": [],
   "source": [
    "# Import necessary libraries\n",
    "\n",
    "from selenium import webdriver\n",
    "from selenium.webdriver.common.by import By\n",
    "from selenium.webdriver.common.keys import Keys\n",
    "from selenium.webdriver.support.wait import WebDriverWait\n",
    "from selenium.webdriver.support import expected_conditions as EC\n",
    "from selenium.common.exceptions import TimeoutException\n",
    "import time\n",
    "from itertools import repeat\n",
    "import pandas as pd\n",
    "import configparser\n",
    "import numpy as np\n",
    "\n",
    "import os\n",
    "os.environ['PATH'] += r\"C:/SeleniumDrivers\"\n",
    "\n",
    "# Initialize the WebDriver using Chrome\n",
    "driver = webdriver.Chrome()\n",
    "driver.maximize_window()  # Maximize the browser window"
   ]
  },
  {
   "cell_type": "code",
   "execution_count": 2,
   "metadata": {},
   "outputs": [],
   "source": [
    "driver.get(\"https://hk.indeed.com/career-advice/interviewing/customer-service-interview-questions\")"
   ]
  },
  {
   "cell_type": "code",
   "execution_count": 3,
   "metadata": {},
   "outputs": [],
   "source": [
    "questions = driver.find_elements(By.CSS_SELECTOR, 'h3[class=\"rich-text-component css-18fte31 e1tiznh50\"]')"
   ]
  },
  {
   "cell_type": "code",
   "execution_count": 4,
   "metadata": {},
   "outputs": [
    {
     "name": "stdout",
     "output_type": "stream",
     "text": [
      "1. How do you define customer service?\n",
      "2. How do you improve an unsatisfactory customer experience?\n",
      "3. Describe an instance where you had to collaborate with a colleague to find a solution to a problem.\n",
      "4. How do you respond to a customer's question for which you don't know the answer?\n",
      "5. How do you handle a customer who complains about a known issue with a product or service?\n",
      "6. Describe a mistake that you made handling a customer service issue and how you mitigated it.\n",
      "7. Why do you want to work here?\n",
      "8. Where do you see yourself in five years?\n",
      "9. Tell us about a time where you went beyond your role to help a customer.\n",
      "10. How proficient are you in customer service software?\n"
     ]
    }
   ],
   "source": [
    "questionz = []\n",
    "for question in questions:\n",
    "    print(question.text)\n",
    "    questionz.append(question.text)"
   ]
  },
  {
   "cell_type": "code",
   "execution_count": 5,
   "metadata": {},
   "outputs": [
    {
     "name": "stdout",
     "output_type": "stream",
     "text": [
      "10\n"
     ]
    }
   ],
   "source": [
    "print(len(questionz))"
   ]
  },
  {
   "cell_type": "code",
   "execution_count": 6,
   "metadata": {},
   "outputs": [],
   "source": [
    "texts = driver.find_elements(By.CSS_SELECTOR,'p[class=\"rich-text-component css-1g5t2dl e1wnkr790\"]')"
   ]
  },
  {
   "cell_type": "code",
   "execution_count": 7,
   "metadata": {},
   "outputs": [
    {
     "name": "stdout",
     "output_type": "stream",
     "text": [
      "10\n",
      "10\n"
     ]
    }
   ],
   "source": [
    "answer = []\n",
    "\n",
    "explanation = []\n",
    "\n",
    "previous = texts[0]\n",
    "\n",
    "for text in texts[1:]:\n",
    "    \n",
    "    current = text\n",
    "    if \"Example:\" in current.text:\n",
    "        \n",
    "        explanation.append(previous.text)\n",
    "        \n",
    "        answer.append(text.text)\n",
    "    \n",
    "    previous = current\n",
    "        \n",
    "print(len(answer))\n",
    "print(len(explanation))"
   ]
  },
  {
   "cell_type": "code",
   "execution_count": 8,
   "metadata": {},
   "outputs": [],
   "source": [
    "final = []\n",
    "\n",
    "for i in range(len(answer)):\n",
    "    \n",
    "    final.append([])\n",
    "    \n",
    "    final[i].append(questionz[i])\n",
    "    final[i].append(explanation[i])\n",
    "    final[i].append(answer[i])\n",
    "    \n",
    "    \n",
    "    \n",
    "    "
   ]
  },
  {
   "cell_type": "code",
   "execution_count": 9,
   "metadata": {},
   "outputs": [
    {
     "name": "stdout",
     "output_type": "stream",
     "text": [
      "['1. How do you define customer service?', 'Your interviewer may start by asking you to define customer service to understand your perspective on what customer service means. When answering this question, try to be objective and brief using your own language to define it, rather than providing a standard definition.', 'Example: \"I define customer service as providing assistance and support to a customer or client. For me, this includes helping them understand a product or service, finding one that matches their needs and collecting feedback to improve their customer experience in the future.\"']\n",
      "['2. How do you improve an unsatisfactory customer experience?', \"A common responsibility of a customer service agent is to handle issues from customers who aren't happy with their experience. The interviewer wants to know that you can provide a satisfactory experience to a customer. If you have prior relevant experience, reference it in your answer.\", 'Example: \"To improve a customer\\'s unsatisfactory experience, I would actively listen and take note of their main concerns. For example, I was once helping a customer who was upset about a late refund. I did my best to understand and acknowledge the situation. I then put in a request to refund their purchase and award them a complimentary gift voucher.\"']\n",
      "['3. Describe an instance where you had to collaborate with a colleague to find a solution to a problem.', 'Interviewers ask this common question to learn about how well you work in a team, as customer service involves considerable teamwork. When describing an example from your experience, structure it using the STAR method.', 'Example: \"A customer came to our hotel with a booking for three nights only to find that their room was unavailable when checking in. I apologised to the upset customer and requested them to give me a few minutes to look into the problem. I liaised with a colleague to arrange and reserve another room at one of our other hotels while I spoke to the customer. We gave the customer a free transfer and a discount on their new booking to compensate for the experience.\"']\n",
      "[\"4. How do you respond to a customer's question for which you don't know the answer?\", \"Despite knowing the products and services of a company well, not having the answer to a customer's question may sometimes happen. In your answer, explain how you would handle the situation.\", 'Example: \"If a customer asks a question to which I don\\'t know the answer, I would politely ask the customer to wait for a short period while I confer with a colleague or the supervisor for assistance. Then I can inform the customer that while I am not in a position to assist, I\\'m referring them to a colleague who is in a better position to assist them and introduce them to the customer.\"']\n",
      "['5. How do you handle a customer who complains about a known issue with a product or service?', \"When answering this question, demonstrate how you can manage an issue with a product or service of the company that the customer finds unsatisfactory. Consider using an example from your previous experience or relating your answer to the company's product or service.\", 'Example: \"In my previous job, I had a customer who complained that despite two replacements of the product, a crack would develop in one of the components. I apologised for the experience, recorded their feedback in detail and provided it to the company to make improvements. I offered a refund or a product exchange to compensate for the experience they had.\"']\n",
      "['6. Describe a mistake that you made handling a customer service issue and how you mitigated it.', 'Everyone occasionally makes mistakes on the job. In your answer, the interviewer wants to know how aware you are of the mistake, its consequences and how you prevented it from happening again.', 'Example: \"In my previous role, I came to realise that after resolving a customer\\'s query, I didn\\'t close the ticket in the system before moving on to the next call. This had an impact on our satisfaction surveys and also resulted in customers receiving follow-up messages that were not necessary. After my supervisor reminded me to make the closing of tickets a part of my routine, I was more mindful of that particular step when ending a call.\"']\n",
      "['7. Why do you want to work here?', 'Your answer to this question shows how serious you are about the position and your commitment to its responsibilities. Use your knowledge of the company and their goals to structure your answer.', 'Example: \"I always buy my personal care products from your company. They\\'re not only great for sensitive skin but are also at great prices. I have also spoken to your customer service to provide feedback about some products and I always receive a response, even during the holidays. It excites me to work with a team that shows such dedication and enthusiasm to help others.\"']\n",
      "['8. Where do you see yourself in five years?', \"It's natural for a company to want to know more about your career goals and plans. Interviewers ask this question because they want to understand if you're someone who's looking for a long-term commitment and desires to advance your career with them.\", 'Example: \"I\\'m looking to progress to a managerial role over the next five years and advance my leadership skills. I\\'m also looking to take on more responsibilities as I grow in my role. I love helping my colleagues find solutions to problems and, in turn, assisting customers. This is how I would use my position to advance my career goals and add value to your organisation.\"']\n",
      "['9. Tell us about a time where you went beyond your role to help a customer.', 'This question seeks to know if you can go beyond the expectations of your job to provide exemplary customer service. In your answer, provide an example that demonstrates your success in a similar situation.', 'Example: \"I once had a customer at our hotel whose child had lost a toy. Despite a thorough search, we were unable to find it. I reached out to the customer to request a picture of the toy. I found and bought a replica at a nearby toy shop and gave it to the customer\\'s child with a little handwritten note. The customer was very grateful for the thoughtful gesture and has been a regular at our hotel ever since.\"']\n",
      "['10. How proficient are you in customer service software?', \"While your answer to this question depends on your role, the interviewer wants to learn about your knowledge of customer relationship management (CRM) software. If you don't have any experience with it, let the interviewer know of your desire to develop your computer skills.\", 'Example: \"I am familiar with CRM ticketing tools. Previously, I have used them to track customer issues, but I\\'m keen to learn new software and tools to further my skills.\"']\n"
     ]
    }
   ],
   "source": [
    "for i in final:\n",
    "    \n",
    "    print(i)"
   ]
  },
  {
   "cell_type": "code",
   "execution_count": 10,
   "metadata": {},
   "outputs": [
    {
     "name": "stdout",
     "output_type": "stream",
     "text": [
      "5. How do you handle a customer who complains about a known issue with a product or service?\n"
     ]
    }
   ],
   "source": [
    "print(final[4][0])"
   ]
  },
  {
   "cell_type": "code",
   "execution_count": 11,
   "metadata": {},
   "outputs": [
    {
     "name": "stdout",
     "output_type": "stream",
     "text": [
      "When answering this question, demonstrate how you can manage an issue with a product or service of the company that the customer finds unsatisfactory. Consider using an example from your previous experience or relating your answer to the company's product or service.\n"
     ]
    }
   ],
   "source": [
    "print(final[4][1])"
   ]
  },
  {
   "cell_type": "code",
   "execution_count": 12,
   "metadata": {},
   "outputs": [
    {
     "name": "stdout",
     "output_type": "stream",
     "text": [
      "Example: \"In my previous job, I had a customer who complained that despite two replacements of the product, a crack would develop in one of the components. I apologised for the experience, recorded their feedback in detail and provided it to the company to make improvements. I offered a refund or a product exchange to compensate for the experience they had.\"\n"
     ]
    }
   ],
   "source": [
    "print(final[4][2])"
   ]
  },
  {
   "cell_type": "code",
   "execution_count": 13,
   "metadata": {},
   "outputs": [],
   "source": [
    "cols = [\"question\",\"explanation\",\"answer\"]"
   ]
  },
  {
   "cell_type": "code",
   "execution_count": 14,
   "metadata": {},
   "outputs": [],
   "source": [
    "df = pd.DataFrame(final,columns=cols)"
   ]
  },
  {
   "cell_type": "code",
   "execution_count": 15,
   "metadata": {},
   "outputs": [],
   "source": [
    "df.to_csv('indeed_10.csv')"
   ]
  }
 ],
 "metadata": {
  "kernelspec": {
   "display_name": "Python 3",
   "language": "python",
   "name": "python3"
  },
  "language_info": {
   "codemirror_mode": {
    "name": "ipython",
    "version": 3
   },
   "file_extension": ".py",
   "mimetype": "text/x-python",
   "name": "python",
   "nbconvert_exporter": "python",
   "pygments_lexer": "ipython3",
   "version": "3.10.0"
  }
 },
 "nbformat": 4,
 "nbformat_minor": 2
}
